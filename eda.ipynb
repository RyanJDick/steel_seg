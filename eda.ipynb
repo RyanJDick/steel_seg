{
 "cells": [
  {
   "cell_type": "markdown",
   "metadata": {},
   "source": [
    "# Severstal Steel Defect EDA"
   ]
  },
  {
   "cell_type": "code",
   "execution_count": null,
   "metadata": {
    "scrolled": false
   },
   "outputs": [],
   "source": [
    "TRAIN_IMAGE_DIR = './severstal-steel-defect-detection/train_images/'\n",
    "TRAIN_ANNOTATIONS_FILE = './severstal-steel-defect-detection/train.csv'"
   ]
  },
  {
   "cell_type": "code",
   "execution_count": null,
   "metadata": {
    "scrolled": false
   },
   "outputs": [],
   "source": [
    "from collections import defaultdict\n",
    "\n",
    "import numpy as np\n",
    "\n",
    "def rle_to_dense(rle, img_height, img_width):\n",
    "    if rle is None or rle == '':\n",
    "        return np.zeros((img_height, img_width))\n",
    "    rle_list = rle.strip().split(' ')\n",
    "    rle_pairs = [(int(rle_list[i]), int(rle_list[i+1])) for i in range(0, len(rle_list), 2)]\n",
    "\n",
    "    dense_1d_array = np.zeros(img_height * img_width)\n",
    "    for rle_start, rle_run in rle_pairs:\n",
    "        # Subtract 1 from indices because pixel indices start at 1 rather than 0\n",
    "        dense_1d_array[rle_start - 1:rle_start + rle_run - 1] = 1\n",
    "    \n",
    "    # Use Fortran ordering, meaning that the first index changes fastest (sort of unconventional)\n",
    "    dense_2d_array = np.reshape(dense_1d_array, (img_height, img_width), order='F')\n",
    "    return dense_2d_array\n",
    "\n",
    "\n",
    "def load_annotations(ann_file_name):\n",
    "    anns = defaultdict(dict)\n",
    "\n",
    "    with open(ann_file_name) as f:\n",
    "        for line in f:\n",
    "            file_name, rle_ann = line.split(',')\n",
    "            if file_name == 'ImageId_ClassId': # Skip header\n",
    "                continue\n",
    "\n",
    "            img_id, cls_id = file_name.split('_')\n",
    "            anns[img_id][cls_id] = rle_ann.strip()\n",
    "    return anns\n"
   ]
  },
  {
   "cell_type": "code",
   "execution_count": null,
   "metadata": {
    "scrolled": false
   },
   "outputs": [],
   "source": [
    "anns = load_annotations(TRAIN_ANNOTATIONS_FILE)"
   ]
  },
  {
   "cell_type": "code",
   "execution_count": null,
   "metadata": {
    "scrolled": false
   },
   "outputs": [],
   "source": [
    "anns[list(anns.keys())[1]]"
   ]
  },
  {
   "cell_type": "markdown",
   "metadata": {},
   "source": [
    "## Visualize Examples"
   ]
  },
  {
   "cell_type": "code",
   "execution_count": null,
   "metadata": {
    "scrolled": true
   },
   "outputs": [],
   "source": [
    "import os\n",
    "\n",
    "from PIL import Image\n",
    "import matplotlib.pyplot as plt\n",
    "%matplotlib inline\n",
    "\n",
    "def visualize_img_with_masks(img_path, ann_dict):\n",
    "    num_classes = 4\n",
    "    img = np.array(Image.open(img_path))\n",
    "    _, axs = plt.subplots(num_classes + 1, 1, figsize=(15, 18))\n",
    "    axs[0].imshow(img)\n",
    "\n",
    "    cmaps = ['Reds', 'Blues', 'Greens', 'Purples']\n",
    "    for cls_id in range(1, num_classes + 1):\n",
    "        mask = rle_to_dense(ann_dict[str(cls_id)], img_height=img.shape[0], img_width=img.shape[1])\n",
    "        axs[cls_id].imshow(img)\n",
    "        axs[cls_id].imshow(mask, alpha=0.4, cmap=cmaps[cls_id - 1])\n",
    "    plt.show()\n",
    "\n",
    "def visualize_imgs(anns):\n",
    "    count = 5\n",
    "    for img_id, ann in anns.items():   \n",
    "        if ann['1'] != '' or ann['2'] != '' or ann['3'] != '' or ann['4']:\n",
    "            print(f'**********{img_id}**********')\n",
    "            visualize_img_with_masks(os.path.join(TRAIN_IMAGE_DIR, img_id), ann)\n",
    "            count -= 1\n",
    "        if count <= 0:\n",
    "            return\n",
    "\n",
    "\n",
    "visualize_imgs(anns)\n"
   ]
  },
  {
   "cell_type": "markdown",
   "metadata": {},
   "source": [
    "## Training Set Class Breakdown"
   ]
  },
  {
   "cell_type": "code",
   "execution_count": null,
   "metadata": {},
   "outputs": [],
   "source": [
    "counts = {'no_labels': 0,\n",
    "          '1_only': 0,\n",
    "          '2_only': 0,\n",
    "          '3_only': 0,\n",
    "          '4_only': 0,\n",
    "          'multiple_labels_2': 0,\n",
    "          'multiple_labels_3': 0,\n",
    "          'multiple_labels_4': 0}\n",
    "\n",
    "for ann in anns.values():\n",
    "    labels = []\n",
    "    for k, v in ann.items():\n",
    "        if v != '':\n",
    "            labels.append(k)\n",
    "\n",
    "    if len(labels) == 0:\n",
    "        counts['no_labels'] += 1\n",
    "    elif len(labels) == 1:\n",
    "        counts[labels[0] + '_only'] += 1\n",
    "    elif len(labels) >= 1:\n",
    "        counts['multiple_labels_' + str(len(labels))] += 1\n",
    "\n",
    "for k, v in counts.items():\n",
    "    print(f'{k}: {v}')"
   ]
  }
 ],
 "metadata": {
  "kernelspec": {
   "display_name": "Python 3",
   "language": "python",
   "name": "python3"
  },
  "language_info": {
   "codemirror_mode": {
    "name": "ipython",
    "version": 3
   },
   "file_extension": ".py",
   "mimetype": "text/x-python",
   "name": "python",
   "nbconvert_exporter": "python",
   "pygments_lexer": "ipython3",
   "version": "3.6.8"
  }
 },
 "nbformat": 4,
 "nbformat_minor": 2
}
