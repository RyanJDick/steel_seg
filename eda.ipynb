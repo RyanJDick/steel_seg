{
 "cells": [
  {
   "cell_type": "markdown",
   "metadata": {},
   "source": [
    "# Severstal Steel Defect EDA"
   ]
  },
  {
   "cell_type": "code",
   "execution_count": null,
   "metadata": {
    "scrolled": false
   },
   "outputs": [],
   "source": [
    "IMAGE_DIR = './data/severstal-steel-defect-detection/train_images/'\n",
    "ANNOTATIONS_FILE = './data/severstal-steel-defect-detection/train.csv'\n",
    "# IMAGE_DIR = './data/severstal-steel-defect-detection/test_images/'\n",
    "# ANNOTATIONS_FILE = '/home/ryan/Downloads/submission (8).csv'\n",
    "# IMAGE_DIR = './data/severstal-steel-defect-detection/test_images/'\n",
    "# ANNOTATIONS_FILE = 'submission.csv'"
   ]
  },
  {
   "cell_type": "code",
   "execution_count": null,
   "metadata": {
    "scrolled": false
   },
   "outputs": [],
   "source": [
    "from collections import defaultdict\n",
    "\n",
    "import numpy as np\n",
    "\n",
    "from steel_seg.utils import rle_to_dense\n",
    "from steel_seg.dataset.dataset_utils import load_annotations\n"
   ]
  },
  {
   "cell_type": "code",
   "execution_count": null,
   "metadata": {
    "scrolled": false
   },
   "outputs": [],
   "source": [
    "anns = load_annotations(ANNOTATIONS_FILE)"
   ]
  },
  {
   "cell_type": "code",
   "execution_count": null,
   "metadata": {},
   "outputs": [],
   "source": [
    "len(anns)"
   ]
  },
  {
   "cell_type": "code",
   "execution_count": null,
   "metadata": {
    "scrolled": false
   },
   "outputs": [],
   "source": [
    "anns[list(anns.keys())[1]]"
   ]
  },
  {
   "cell_type": "markdown",
   "metadata": {},
   "source": [
    "## Visualize Examples"
   ]
  },
  {
   "cell_type": "code",
   "execution_count": null,
   "metadata": {
    "scrolled": true
   },
   "outputs": [],
   "source": [
    "import os\n",
    "\n",
    "from PIL import Image\n",
    "import matplotlib.pyplot as plt\n",
    "%matplotlib inline\n",
    "import cv2\n",
    "\n",
    "def visualize_segmentations(img, anns):\n",
    "    vis_img = img.copy()\n",
    "    \n",
    "    colours = [[0, 235, 235], [0, 210, 0], [0, 0, 255], [255, 0, 255]]\n",
    "    for i in range(4):\n",
    "        mask = anns[:, :, i]\n",
    "        if np.any(mask):\n",
    "            print(f'Class {i}')\n",
    "        kernel = np.ones((10, 10), np.uint8) \n",
    "        dilated_mask = cv2.dilate(mask, kernel, iterations=1)\n",
    "        contour_mask = dilated_mask - mask\n",
    "        for c in range(3):\n",
    "            vis_img[contour_mask == 1, c] = colours[i][c]\n",
    "    return vis_img\n",
    "\n",
    "def visualize_img_with_masks(img_path, ann_dict):\n",
    "    num_classes = 4\n",
    "    img = np.array(Image.open(img_path))\n",
    "\n",
    "    masks = []\n",
    "    for cls_id in range(1, num_classes + 1):\n",
    "        masks.append(rle_to_dense(ann_dict[str(cls_id)], img_height=img.shape[0], img_width=img.shape[1]))\n",
    "        \n",
    "    mask = np.stack(masks, axis=-1)\n",
    "    mask.astype(np.uint8)\n",
    "    vis_img = visualize_segmentations(img, mask)\n",
    "    plt.figure(figsize=(10, 3))\n",
    "    plt.imshow(vis_img)\n",
    "    plt.show()\n",
    "\n",
    "def visualize_imgs(anns):\n",
    "    count = 120\n",
    "\n",
    "    for img_id, ann in anns.items():   \n",
    "        #if ann['1'] != '' or ann['2'] != '' or ann['3'] != '' or ann['4']:\n",
    "        print(f'**********{img_id}**********')\n",
    "        visualize_img_with_masks(os.path.join(IMAGE_DIR, img_id), ann)\n",
    "        count -= 1\n",
    "        if count <= 0:\n",
    "            return\n",
    "\n",
    "\n",
    "visualize_imgs(anns)\n"
   ]
  },
  {
   "cell_type": "markdown",
   "metadata": {},
   "source": [
    "## Training Set Class Breakdown"
   ]
  },
  {
   "cell_type": "code",
   "execution_count": null,
   "metadata": {},
   "outputs": [],
   "source": [
    "counts = {'no_labels': 0,\n",
    "          '1_only': 0,\n",
    "          '2_only': 0,\n",
    "          '3_only': 0,\n",
    "          '4_only': 0,\n",
    "          'multiple_labels_2': 0,\n",
    "          'multiple_labels_3': 0,\n",
    "          'multiple_labels_4': 0}\n",
    "\n",
    "for ann in anns.values():\n",
    "    labels = []\n",
    "    for k, v in ann.items():\n",
    "        if v != '':\n",
    "            labels.append(k)\n",
    "\n",
    "    if len(labels) == 0:\n",
    "        counts['no_labels'] += 1\n",
    "    elif len(labels) == 1:\n",
    "        counts[labels[0] + '_only'] += 1\n",
    "    elif len(labels) >= 1:\n",
    "        counts['multiple_labels_' + str(len(labels))] += 1\n",
    "\n",
    "for k, v in counts.items():\n",
    "    print(f'{k}: {v}')"
   ]
  },
  {
   "cell_type": "code",
   "execution_count": null,
   "metadata": {},
   "outputs": [],
   "source": [
    "no_labels: 1184\n",
    "1_only: 65\n",
    "2_only: 6\n",
    "3_only: 447\n",
    "4_only: 79\n",
    "multiple_labels_2: 20\n",
    "multiple_labels_3: 0\n",
    "multiple_labels_4: 0"
   ]
  },
  {
   "cell_type": "code",
   "execution_count": null,
   "metadata": {},
   "outputs": [],
   "source": [
    "no_labels: 931\n",
    "1_only: 315\n",
    "2_only: 26\n",
    "3_only: 394\n",
    "4_only: 84\n",
    "multiple_labels_2: 50\n",
    "multiple_labels_3: 1\n",
    "multiple_labels_4: 0"
   ]
  },
  {
   "cell_type": "code",
   "execution_count": null,
   "metadata": {},
   "outputs": [],
   "source": [
    "From probing public test set:\n",
    "no_labels: 6172\n",
    "1_only: 128\n",
    "2_only: 43\n",
    "3_only: 741\n",
    "4_only: 120\n",
    " \n",
    "\n"
   ]
  }
 ],
 "metadata": {
  "kernelspec": {
   "display_name": "Python 3",
   "language": "python",
   "name": "python3"
  },
  "language_info": {
   "codemirror_mode": {
    "name": "ipython",
    "version": 3
   },
   "file_extension": ".py",
   "mimetype": "text/x-python",
   "name": "python",
   "nbconvert_exporter": "python",
   "pygments_lexer": "ipython3",
   "version": "3.6.8"
  }
 },
 "nbformat": 4,
 "nbformat_minor": 2
}
